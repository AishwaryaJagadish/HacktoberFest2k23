{
 "cells": [
  {
   "cell_type": "code",
   "execution_count": 3,
   "id": "c3b2343b",
   "metadata": {},
   "outputs": [],
   "source": [
    "import cv2\n",
    "\n",
    "import os\n",
    "\n",
    "import glob\n",
    "\n",
    "model=cv2.CascadeClassifier(\"haarcascade_frontalface_default.xml\")"
   ]
  },
  {
   "cell_type": "code",
   "execution_count": 4,
   "id": "da39c0ea",
   "metadata": {},
   "outputs": [],
   "source": [
    "photo=cv2.imread(\"pic11.JPG\")\n",
    "\n",
    "photo1=cv2.imread(\"pic12.JPG\")"
   ]
  },
  {
   "cell_type": "code",
   "execution_count": 5,
   "id": "4927a8fe",
   "metadata": {},
   "outputs": [],
   "source": [
    "faces= model.detectMultiScale(photo)\n",
    "\n",
    "faces1= model.detectMultiScale(photo1)\n"
   ]
  },
  {
   "cell_type": "code",
   "execution_count": 6,
   "id": "72efb9a9",
   "metadata": {},
   "outputs": [],
   "source": [
    "from PIL import Image"
   ]
  },
  {
   "cell_type": "code",
   "execution_count": 7,
   "id": "7c017a7c",
   "metadata": {},
   "outputs": [
    {
     "ename": "IndexError",
     "evalue": "tuple index out of range",
     "output_type": "error",
     "traceback": [
      "\u001b[1;31m---------------------------------------------------------------------------\u001b[0m",
      "\u001b[1;31mIndexError\u001b[0m                                Traceback (most recent call last)",
      "\u001b[1;32m<ipython-input-7-1c364ae2a8dd>\u001b[0m in \u001b[0;36m<module>\u001b[1;34m\u001b[0m\n\u001b[1;32m----> 1\u001b[1;33m \u001b[0mx11\u001b[0m\u001b[1;33m=\u001b[0m\u001b[0mfaces\u001b[0m\u001b[1;33m[\u001b[0m\u001b[1;36m0\u001b[0m\u001b[1;33m]\u001b[0m\u001b[1;33m[\u001b[0m\u001b[1;36m0\u001b[0m\u001b[1;33m]\u001b[0m\u001b[1;33m\u001b[0m\u001b[1;33m\u001b[0m\u001b[0m\n\u001b[0m\u001b[0;32m      2\u001b[0m \u001b[0my11\u001b[0m\u001b[1;33m=\u001b[0m\u001b[0mfaces\u001b[0m\u001b[1;33m[\u001b[0m\u001b[1;36m0\u001b[0m\u001b[1;33m]\u001b[0m\u001b[1;33m[\u001b[0m\u001b[1;36m1\u001b[0m\u001b[1;33m]\u001b[0m\u001b[1;33m\u001b[0m\u001b[1;33m\u001b[0m\u001b[0m\n\u001b[0;32m      3\u001b[0m \u001b[0mx22\u001b[0m\u001b[1;33m=\u001b[0m\u001b[0mx11\u001b[0m\u001b[1;33m+\u001b[0m\u001b[0mfaces\u001b[0m\u001b[1;33m[\u001b[0m\u001b[1;36m0\u001b[0m\u001b[1;33m]\u001b[0m\u001b[1;33m[\u001b[0m\u001b[1;36m2\u001b[0m\u001b[1;33m]\u001b[0m\u001b[1;33m\u001b[0m\u001b[1;33m\u001b[0m\u001b[0m\n\u001b[0;32m      4\u001b[0m \u001b[0my22\u001b[0m\u001b[1;33m=\u001b[0m\u001b[0my11\u001b[0m\u001b[1;33m+\u001b[0m\u001b[0mfaces\u001b[0m\u001b[1;33m[\u001b[0m\u001b[1;36m0\u001b[0m\u001b[1;33m]\u001b[0m\u001b[1;33m[\u001b[0m\u001b[1;36m3\u001b[0m\u001b[1;33m]\u001b[0m\u001b[1;33m\u001b[0m\u001b[1;33m\u001b[0m\u001b[0m\n\u001b[0;32m      5\u001b[0m \u001b[1;33m\u001b[0m\u001b[0m\n",
      "\u001b[1;31mIndexError\u001b[0m: tuple index out of range"
     ]
    }
   ],
   "source": [
    "\n",
    "\n",
    "x11=faces[0][0]\n",
    "y11=faces[0][1]\n",
    "x22=x11+faces[0][2]\n",
    "y22=y11+faces[0][3]\n",
    "\n",
    "\n",
    "x1=faces1[0][0]\n",
    "y1=faces1[0][1]\n",
    "x2=x1+faces1[0][2]\n",
    "y2=y1+faces1[0][3]\n",
    "\n",
    "cpic=photo[y11:y22,x11:x22]\n",
    "\n",
    "cv2.imwrite(\"cpic.jpeg\",cpic)\n",
    "\n",
    "cpic1=photo1[y1:y2,x1:x2]\n",
    "\n",
    "cv2.imwrite(\"cpic1.jpeg\",cpic1)\n",
    "\n",
    "#model_pic=cv2.rectangle(photo, (x11,y11), (x22,y22), [0,154,192], 2)\n",
    "\n",
    "#model_pic1=cv2.rectangle(photo1, (x1,y1), (x2,y2), [0,154,192], 2)"
   ]
  },
  {
   "cell_type": "code",
   "execution_count": 17,
   "id": "fe9e42d1",
   "metadata": {},
   "outputs": [],
   "source": [
    "Image1 = Image.open('pic11.JPG')\n",
    "  \n",
    "# make a copy the image so that \n",
    "# the original image does not get affected\n",
    "Image1copy = Image1.copy()\n",
    "Image2 = Image.open('cpic1.jpeg')\n",
    "\n",
    "Image212 = Image2.resize((x22-x11,y22-y11))\n",
    "Image2copy = Image212.copy()\n",
    "  \n",
    "# paste image giving dimensions\n",
    "Image1copy.paste(Image2copy, (x1,y1))\n",
    "  \n",
    "# save the image \n",
    "Image1copy.save('pic1121.jpeg')"
   ]
  },
  {
   "cell_type": "code",
   "execution_count": 18,
   "id": "951450a6",
   "metadata": {},
   "outputs": [],
   "source": [
    "Image2.show()"
   ]
  },
  {
   "cell_type": "code",
   "execution_count": 19,
   "id": "e423116a",
   "metadata": {
    "scrolled": true
   },
   "outputs": [
    {
     "data": {
      "text/plain": [
       "2656443"
      ]
     },
     "execution_count": 19,
     "metadata": {},
     "output_type": "execute_result"
    }
   ],
   "source": [
    "cpic.size"
   ]
  },
  {
   "cell_type": "code",
   "execution_count": 20,
   "id": "33d6355f",
   "metadata": {},
   "outputs": [],
   "source": [
    "Image1 = Image.open('pic12.JPG')\n",
    "  \n",
    "# make a copy the image so that \n",
    "# the original image does not get affected\n",
    "Image1copy = Image1.copy()\n",
    "Image2 = Image.open('cpic.jpeg')\n",
    "\n",
    "Image211 = Image2.resize((x2-x1,y2-y1))\n",
    "Image2copy = Image211.copy()\n",
    "\n",
    "# paste image giving dimensions\n",
    "Image1copy.paste(Image2copy, (x11,y11))\n",
    "  \n",
    "# save the image \n",
    "Image1copy.save('pic11211.jpeg')"
   ]
  },
  {
   "cell_type": "code",
   "execution_count": 21,
   "id": "4f7ae43c",
   "metadata": {},
   "outputs": [],
   "source": [
    "Image2.show()"
   ]
  },
  {
   "cell_type": "code",
   "execution_count": 11,
   "id": "38e62b80",
   "metadata": {},
   "outputs": [
    {
     "data": {
      "text/plain": [
       "'#cv2.imshow(\"pic\",model_pic)\\ncv2.imshow(\"pic122\",cpic)\\n\\n#cv2.imshow(\"pic1\",model_pic1)\\ncv2.imshow(\"pic11\",cpic1)\\ncv2.waitKey()\\ncv2.destroyAllWindows()'"
      ]
     },
     "execution_count": 11,
     "metadata": {},
     "output_type": "execute_result"
    }
   ],
   "source": [
    "'''#cv2.imshow(\"pic\",model_pic)\n",
    "cv2.imshow(\"pic122\",cpic)\n",
    "\n",
    "#cv2.imshow(\"pic1\",model_pic1)\n",
    "cv2.imshow(\"pic11\",cpic1)\n",
    "cv2.waitKey()\n",
    "cv2.destroyAllWindows()'''"
   ]
  },
  {
   "cell_type": "code",
   "execution_count": null,
   "id": "56fe82ae",
   "metadata": {},
   "outputs": [],
   "source": []
  }
 ],
 "metadata": {
  "kernelspec": {
   "display_name": "Python 3",
   "language": "python",
   "name": "python3"
  },
  "language_info": {
   "codemirror_mode": {
    "name": "ipython",
    "version": 3
   },
   "file_extension": ".py",
   "mimetype": "text/x-python",
   "name": "python",
   "nbconvert_exporter": "python",
   "pygments_lexer": "ipython3",
   "version": "3.8.8"
  }
 },
 "nbformat": 4,
 "nbformat_minor": 5
}
